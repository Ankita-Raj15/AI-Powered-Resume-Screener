{
 "cells": [
  {
   "cell_type": "code",
   "execution_count": 1,
   "id": "9a9c6d10-926f-43b9-bc24-935166ac5bdf",
   "metadata": {},
   "outputs": [
    {
     "name": "stderr",
     "output_type": "stream",
     "text": [
      "[nltk_data] Downloading package stopwords to\n",
      "[nltk_data]     C:\\Users\\KIIT0001\\AppData\\Roaming\\nltk_data...\n",
      "[nltk_data]   Package stopwords is already up-to-date!\n"
     ]
    },
    {
     "name": "stdout",
     "output_type": "stream",
     "text": [
      "\u001b[38;5;2m✔ Download and installation successful\u001b[0m\n",
      "You can now load the package via spacy.load('en_core_web_sm')\n",
      "\u001b[38;5;3m⚠ Restart to reload dependencies\u001b[0m\n",
      "If you are in a Jupyter or Colab notebook, you may need to restart Python in\n",
      "order to load all the package's dependencies. You can do this by selecting the\n",
      "'Restart kernel' or 'Restart runtime' option.\n"
     ]
    }
   ],
   "source": [
    "import nltk\n",
    "nltk.download('stopwords')\n",
    "\n",
    "import spacy\n",
    "spacy.cli.download(\"en_core_web_sm\")"
   ]
  },
  {
   "cell_type": "code",
   "execution_count": 2,
   "id": "5aa501d6-6c12-441d-9701-2faaf09d292c",
   "metadata": {},
   "outputs": [
    {
     "name": "stdout",
     "output_type": "stream",
     "text": [
      "\n",
      "📌 ANDROID_DEVELOPER:\n",
      "job title android developer required skills java kotlin android studio firebase rest apis description hiring android developer proficient building native mobile apps using java kotlin experience andro...\n",
      "\n",
      "📌 DATA_ANALYST:\n",
      "job title data analyst required skills excel sql tableau python reporting description looking data analyst skilled working large datasets strong command excel functions sql queries data visualization ...\n",
      "\n",
      "📌 DATA_SCIENTIST:\n",
      "job title data scientist required skills python sql machine learning pandas visualization description seeking data scientist work structured unstructured data apply ml techniques build predictive mode...\n",
      "\n",
      "📌 HR_MANAGER:\n",
      "job title hr manager required skills communication recruitment excel ats tools description looking hr manager experienced end end recruitment employee onboarding team management must proficient using ...\n",
      "\n",
      "📌 ML_ENGINEER:\n",
      "job title machine learning engineer required skills python scikit learn tensorflow pandas apis description ml engineer responsible designing deploying machine learning models experience tensorflow pyt...\n",
      "\n",
      "📌 SOFTWARE_DEVELOPER:\n",
      "job title software developer required skills java c git oops data structures description seeking software developer strong programming skills java c candidate well versed object oriented programming o...\n",
      "\n",
      "📌 UI_UX_DESIGNER:\n",
      "job title ui ux designer required skills figma adobe xd prototyping wireframing design thinking description seeking creative ui ux designer experience building user friendly interfaces must familiar t...\n",
      "\n",
      "📌 WEB_DEVELOPER:\n",
      "job title web developer required skills html css javascript react node js description looking front end web developer proficient html css javascript react knowledge must familiarity rest apis node js ...\n"
     ]
    },
    {
     "name": "stderr",
     "output_type": "stream",
     "text": [
      "[nltk_data] Downloading package stopwords to\n",
      "[nltk_data]     C:\\Users\\KIIT0001\\AppData\\Roaming\\nltk_data...\n",
      "[nltk_data]   Package stopwords is already up-to-date!\n"
     ]
    }
   ],
   "source": [
    "import os\n",
    "import re\n",
    "import fitz\n",
    "\n",
    "# Path to JD folder\n",
    "jd_folder = 'job_descriptions/'\n",
    "\n",
    "# Dictionary to store {job_title: cleaned_text}\n",
    "job_descriptions = {}\n",
    "\n",
    "# Stopwords for cleaning\n",
    "from nltk.corpus import stopwords\n",
    "nltk.download('stopwords')\n",
    "stop_words = set(stopwords.words('english'))\n",
    "\n",
    "# Text cleaning function\n",
    "def clean_text(text):\n",
    "    text = text.lower()\n",
    "    text = re.sub(r'[^a-zA-Z]', ' ', text)  # Remove numbers, punctuation\n",
    "    words = text.split()\n",
    "    words = [word for word in words if word not in stop_words]\n",
    "    return ' '.join(words)\n",
    "\n",
    "# Read and clean each JD file\n",
    "for filename in os.listdir(jd_folder):\n",
    "    if filename.endswith('.txt'):\n",
    "        path = os.path.join(jd_folder, filename)\n",
    "        with open(path, 'r', encoding='utf-8') as file:\n",
    "            content = file.read()\n",
    "            cleaned = clean_text(content)\n",
    "            job_title = filename.replace('.txt', '')  # e.g., \"data_scientist\"\n",
    "            job_descriptions[job_title] = cleaned\n",
    "\n",
    "# Preview\n",
    "for role, text in job_descriptions.items():\n",
    "    print(f\"\\n📌 {role.upper()}:\\n{text[:200]}...\")"
   ]
  },
  {
   "cell_type": "code",
   "execution_count": 3,
   "id": "aa7ae019-5d41-47ff-93f2-1f8a3a7616fc",
   "metadata": {},
   "outputs": [
    {
     "name": "stdout",
     "output_type": "stream",
     "text": [
      "\n",
      "📄 Ankita_Raj.txt:\n",
      "ankita raj email ankita dev gmail com phone github github com ankitaraj dev objective passionate software developer skilled java c strong dsa background skills java c oop git mysql spring boot experience java developer intern infosys built online bookstore app backend spring boot education b tech cs...\n",
      "\n",
      "📄 Arjun_Nair.pdf:\n",
      "...\n",
      "\n",
      "📄 Karan_Kapoor.pdf:\n",
      "...\n"
     ]
    }
   ],
   "source": [
    "# Folder where resumes are stored\n",
    "resume_folder = 'resumes/'\n",
    "\n",
    "# Dictionary to store filename : cleaned_text\n",
    "resumes_data = {}\n",
    "\n",
    "# Loop through all files in resumes folder\n",
    "for filename in os.listdir(resume_folder):\n",
    "    file_path = os.path.join(resume_folder, filename)\n",
    "    text = \"\"\n",
    "\n",
    "    # PDF resume\n",
    "    if filename.endswith('.pdf'):\n",
    "        try:\n",
    "            doc = fitz.open(file_path)\n",
    "            for page in doc:\n",
    "                text += page.get_text()\n",
    "            doc.close()\n",
    "        except Exception as e:\n",
    "            print(f\"Error reading PDF {filename}: {e}\")\n",
    "            continue\n",
    "\n",
    "    # TXT resume\n",
    "    elif filename.endswith('.txt'):\n",
    "        try:\n",
    "            with open(file_path, 'r', encoding='utf-8') as f:\n",
    "                text = f.read()\n",
    "        except Exception as e:\n",
    "            print(f\"Error reading TXT {filename}: {e}\")\n",
    "            continue\n",
    "\n",
    "    # Clean text and store\n",
    "    cleaned = clean_text(text)\n",
    "    resumes_data[filename] = cleaned\n",
    "\n",
    "# ✅ Preview first few\n",
    "for name, text in list(resumes_data.items())[:3]:\n",
    "    print(f\"\\n📄 {name}:\\n{text[:300]}...\")"
   ]
  },
  {
   "cell_type": "code",
   "execution_count": 4,
   "id": "98eecfcf-9abd-495b-a0ff-2ccbfd20c7da",
   "metadata": {},
   "outputs": [
    {
     "name": "stdout",
     "output_type": "stream",
     "text": [
      "                Resume  Match %\n",
      "0      Riya_Sharma.txt    33.76\n",
      "1      Rahul_Mehra.txt    10.07\n",
      "2       Ankita_Raj.txt     2.81\n",
      "3   Sneha_Kulkarni.txt     1.92\n",
      "4  Siddharth_Verma.txt     1.58\n",
      "5       Arjun_Nair.pdf     0.00\n",
      "6     Karan_Kapoor.pdf     0.00\n",
      "7        Neha_Jain.pdf     0.00\n",
      "8       Nikita_Das.pdf     0.00\n",
      "9      Vivek_Sinha.pdf     0.00\n"
     ]
    },
    {
     "name": "stderr",
     "output_type": "stream",
     "text": [
      "[nltk_data] Downloading package stopwords to\n",
      "[nltk_data]     C:\\Users\\KIIT0001\\AppData\\Roaming\\nltk_data...\n",
      "[nltk_data]   Package stopwords is already up-to-date!\n"
     ]
    }
   ],
   "source": [
    "import os\n",
    "import re\n",
    "import pandas as pd\n",
    "from sklearn.feature_extraction.text import TfidfVectorizer\n",
    "from sklearn.metrics.pairwise import cosine_similarity\n",
    "from nltk.corpus import stopwords\n",
    "import nltk\n",
    "\n",
    "nltk.download('stopwords')\n",
    "\n",
    "#  Text cleaning function (reuse for JD and resumes)\n",
    "def clean_text(text):\n",
    "    text = text.lower()\n",
    "    text = re.sub(r'[^a-zA-Z]', ' ', text)\n",
    "    words = text.split()\n",
    "    stop_words = set(stopwords.words('english'))\n",
    "    words = [word for word in words if word not in stop_words]\n",
    "    return ' '.join(words)\n",
    "\n",
    "#  Step 1: Load and clean Job Descriptions (JD)\n",
    "jd_folder = 'job_descriptions/'   # Make sure this folder exists\n",
    "jd_data = {}\n",
    "\n",
    "for filename in os.listdir(jd_folder):\n",
    "    if filename.endswith('.txt'):\n",
    "        file_path = os.path.join(jd_folder, filename)\n",
    "        try:\n",
    "            with open(file_path, 'r', encoding='utf-8') as f:\n",
    "                text = f.read()\n",
    "                cleaned = clean_text(text)\n",
    "                jd_data[filename] = cleaned\n",
    "        except Exception as e:\n",
    "            print(f\"Error reading JD {filename}: {e}\")\n",
    "\n",
    "#  Step 2: Choose which JD to match resumes with\n",
    "selected_jd_filename = \"data_scientist.txt\"  # change to your desired JD\n",
    "selected_jd_text = jd_data[selected_jd_filename]\n",
    "\n",
    "#  Step 3: Combine JD + all resumes for vectorization\n",
    "documents = [selected_jd_text] + list(resumes_data.values())\n",
    "\n",
    "#  Step 4: TF-IDF vectorization\n",
    "vectorizer = TfidfVectorizer()\n",
    "tfidf_matrix = vectorizer.fit_transform(documents)\n",
    "\n",
    "#  Step 5: Cosine similarity between JD and each resume\n",
    "similarities = cosine_similarity(tfidf_matrix[0:1], tfidf_matrix[1:]).flatten()\n",
    "\n",
    "#  Step 6: Match % calculation\n",
    "resume_names = list(resumes_data.keys())\n",
    "match_scores = [(name, round(score * 100, 2)) for name, score in zip(resume_names, similarities)]\n",
    "\n",
    "#  Step 7: Sort and display results\n",
    "sorted_matches = sorted(match_scores, key=lambda x: x[1], reverse=True)\n",
    "df = pd.DataFrame(sorted_matches, columns=[\"Resume\", \"Match %\"])\n",
    "print(df)\n"
   ]
  },
  {
   "cell_type": "code",
   "execution_count": 5,
   "id": "6b5d1f68-89b8-459f-8a7b-1e37536e3fd3",
   "metadata": {},
   "outputs": [
    {
     "name": "stdout",
     "output_type": "stream",
     "text": [
      "Available JD files: ['android_developer.txt', 'data_analyst.txt', 'data_scientist.txt', 'hr_manager.txt', 'ml_engineer.txt', 'software_developer.txt', 'ui_ux_designer.txt', 'web_developer.txt']\n"
     ]
    }
   ],
   "source": [
    "print(\"Available JD files:\", list(jd_data.keys()))\n"
   ]
  },
  {
   "cell_type": "code",
   "execution_count": 7,
   "id": "38406937-25a5-4c02-8d15-b3de7064e47d",
   "metadata": {},
   "outputs": [
    {
     "name": "stdout",
     "output_type": "stream",
     "text": [
      "Defaulting to user installation because normal site-packages is not writeable\n",
      "Collecting hf_xet\n",
      "  Downloading hf_xet-1.1.4-cp37-abi3-win_amd64.whl.metadata (883 bytes)\n",
      "Downloading hf_xet-1.1.4-cp37-abi3-win_amd64.whl (2.7 MB)\n",
      "   ---------------------------------------- 0.0/2.7 MB ? eta -:--:--\n",
      "   ---------------------------------------- 0.0/2.7 MB ? eta -:--:--\n",
      "   ---------------------------------------- 0.0/2.7 MB ? eta -:--:--\n",
      "   ---------------------------------------- 0.0/2.7 MB ? eta -:--:--\n",
      "   --- ------------------------------------ 0.3/2.7 MB ? eta -:--:--\n",
      "   --- ------------------------------------ 0.3/2.7 MB ? eta -:--:--\n",
      "   --- ------------------------------------ 0.3/2.7 MB ? eta -:--:--\n",
      "   --- ------------------------------------ 0.3/2.7 MB ? eta -:--:--\n",
      "   ------- -------------------------------- 0.5/2.7 MB 310.6 kB/s eta 0:00:07\n",
      "   ------- -------------------------------- 0.5/2.7 MB 310.6 kB/s eta 0:00:07\n",
      "   ------- -------------------------------- 0.5/2.7 MB 310.6 kB/s eta 0:00:07\n",
      "   ----------- ---------------------------- 0.8/2.7 MB 342.2 kB/s eta 0:00:06\n",
      "   ----------- ---------------------------- 0.8/2.7 MB 342.2 kB/s eta 0:00:06\n",
      "   ----------- ---------------------------- 0.8/2.7 MB 342.2 kB/s eta 0:00:06\n",
      "   --------------- ------------------------ 1.0/2.7 MB 378.3 kB/s eta 0:00:05\n",
      "   --------------- ------------------------ 1.0/2.7 MB 378.3 kB/s eta 0:00:05\n",
      "   ------------------- -------------------- 1.3/2.7 MB 406.6 kB/s eta 0:00:04\n",
      "   ------------------- -------------------- 1.3/2.7 MB 406.6 kB/s eta 0:00:04\n",
      "   ------------------- -------------------- 1.3/2.7 MB 406.6 kB/s eta 0:00:04\n",
      "   ----------------------- ---------------- 1.6/2.7 MB 419.4 kB/s eta 0:00:03\n",
      "   ----------------------- ---------------- 1.6/2.7 MB 419.4 kB/s eta 0:00:03\n",
      "   --------------------------- ------------ 1.8/2.7 MB 443.4 kB/s eta 0:00:02\n",
      "   --------------------------- ------------ 1.8/2.7 MB 443.4 kB/s eta 0:00:02\n",
      "   ------------------------------- -------- 2.1/2.7 MB 462.3 kB/s eta 0:00:02\n",
      "   ------------------------------- -------- 2.1/2.7 MB 462.3 kB/s eta 0:00:02\n",
      "   ----------------------------------- ---- 2.4/2.7 MB 469.3 kB/s eta 0:00:01\n",
      "   ----------------------------------- ---- 2.4/2.7 MB 469.3 kB/s eta 0:00:01\n",
      "   -------------------------------------- - 2.6/2.7 MB 474.8 kB/s eta 0:00:01\n",
      "   -------------------------------------- - 2.6/2.7 MB 474.8 kB/s eta 0:00:01\n",
      "   ---------------------------------------- 2.7/2.7 MB 469.1 kB/s eta 0:00:00\n",
      "Installing collected packages: hf_xet\n",
      "Successfully installed hf_xet-1.1.4\n",
      "                Resume  Match %\n",
      "0      Riya_Sharma.txt    67.62\n",
      "1   Sneha_Kulkarni.txt    46.89\n",
      "2      Rahul_Mehra.txt    45.08\n",
      "3       Ankita_Raj.txt    42.75\n",
      "4  Siddharth_Verma.txt    34.85\n",
      "5       Arjun_Nair.pdf     2.25\n",
      "6     Karan_Kapoor.pdf     2.25\n",
      "7        Neha_Jain.pdf     2.25\n",
      "8       Nikita_Das.pdf     2.25\n",
      "9      Vivek_Sinha.pdf     2.25\n"
     ]
    }
   ],
   "source": [
    "!pip install hf_xet\n",
    "from sentence_transformers import SentenceTransformer\n",
    "from sklearn.metrics.pairwise import cosine_similarity\n",
    "import pandas as pd\n",
    "\n",
    "# Load pretrained BERT model (Tiny but accurate)\n",
    "model = SentenceTransformer('all-MiniLM-L6-v2')  # Fast and effective\n",
    "\n",
    "# Step 1: Select JD\n",
    "selected_jd_filename = \"data_scientist.txt\"  # Use correct lowercase name!\n",
    "selected_jd_text = jd_data[selected_jd_filename]\n",
    "\n",
    "# Step 2: Encode JD and Resumes using BERT\n",
    "resume_texts = list(resumes_data.values())\n",
    "resume_names = list(resumes_data.keys())\n",
    "\n",
    "all_sentences = [selected_jd_text] + resume_texts\n",
    "embeddings = model.encode(all_sentences)\n",
    "\n",
    "# Step 3: Compute similarity between JD and each resume\n",
    "jd_embedding = embeddings[0].reshape(1, -1)\n",
    "resume_embeddings = embeddings[1:]\n",
    "\n",
    "similarities = cosine_similarity(jd_embedding, resume_embeddings).flatten()\n",
    "\n",
    "# Step 4: Format and sort results\n",
    "match_scores = [(name, round(score * 100, 2)) for name, score in zip(resume_names, similarities)]\n",
    "sorted_matches = sorted(match_scores, key=lambda x: x[1], reverse=True)\n",
    "\n",
    "# Step 5: Show results\n",
    "df = pd.DataFrame(sorted_matches, columns=[\"Resume\", \"Match %\"])\n",
    "print(df)"
   ]
  },
  {
   "cell_type": "code",
   "execution_count": 8,
   "id": "84c61233-75cd-442f-bb9d-177fe453bdc5",
   "metadata": {},
   "outputs": [
    {
     "name": "stdout",
     "output_type": "stream",
     "text": [
      "                        JD               Resume  Match %\n",
      "38          hr_manager.txt   Sneha_Kulkarni.txt    72.44\n",
      "26      data_scientist.txt      Riya_Sharma.txt    67.62\n",
      "77       web_developer.txt  Siddharth_Verma.txt    67.58\n",
      "50  software_developer.txt       Ankita_Raj.txt    66.33\n",
      "45         ml_engineer.txt      Rahul_Mehra.txt    62.86\n",
      "46         ml_engineer.txt      Riya_Sharma.txt    60.36\n",
      "16        data_analyst.txt      Riya_Sharma.txt    57.57\n",
      "0    android_developer.txt       Ankita_Raj.txt    53.53\n",
      "7    android_developer.txt  Siddharth_Verma.txt    50.76\n",
      "70       web_developer.txt       Ankita_Raj.txt    50.65\n",
      "40         ml_engineer.txt       Ankita_Raj.txt    49.82\n",
      "8    android_developer.txt   Sneha_Kulkarni.txt    49.11\n",
      "48         ml_engineer.txt   Sneha_Kulkarni.txt    49.01\n",
      "56  software_developer.txt      Riya_Sharma.txt    48.89\n",
      "18        data_analyst.txt   Sneha_Kulkarni.txt    48.41\n"
     ]
    }
   ],
   "source": [
    "from sentence_transformers import SentenceTransformer\n",
    "from sklearn.metrics.pairwise import cosine_similarity\n",
    "import pandas as pd\n",
    "\n",
    "model = SentenceTransformer('all-MiniLM-L6-v2')\n",
    "\n",
    "# Store final results\n",
    "results = []\n",
    "\n",
    "# Loop through every JD\n",
    "for jd_name, jd_text in jd_data.items():\n",
    "    jd_embedding = model.encode([jd_text])[0]\n",
    "\n",
    "    # Loop through all resumes\n",
    "    for resume_name, resume_text in resumes_data.items():\n",
    "        resume_embedding = model.encode([resume_text])[0]\n",
    "\n",
    "        # Compute similarity\n",
    "        similarity = cosine_similarity(\n",
    "            [jd_embedding], [resume_embedding]\n",
    "        )[0][0]\n",
    "\n",
    "        results.append({\n",
    "            \"JD\": jd_name,\n",
    "            \"Resume\": resume_name,\n",
    "            \"Match %\": round(similarity * 100, 2)\n",
    "        })\n",
    "\n",
    "# Convert to DataFrame\n",
    "df = pd.DataFrame(results)\n",
    "\n",
    "# ✅ Optional: Sort by match %\n",
    "df_sorted = df.sort_values(by=\"Match %\", ascending=False)\n",
    "\n",
    "print(df_sorted.head(15))  # Show top 15 matches"
   ]
  },
  {
   "cell_type": "code",
   "execution_count": 11,
   "id": "9024cf60-a106-44b0-a284-e2173f738af3",
   "metadata": {},
   "outputs": [
    {
     "name": "stderr",
     "output_type": "stream",
     "text": [
      "Matplotlib is building the font cache; this may take a moment.\n"
     ]
    },
    {
     "data": {
      "image/png": "[encoded data removed]",
      "text/plain": [
       "<Figure size 1000x600 with 1 Axes>"
      ]
     },
     "metadata": {},
     "output_type": "display_data"
    }
   ],
   "source": [
    "import matplotlib.pyplot as plt\n",
    "\n",
    "# Step: Filter top N matches\n",
    "top_n = 10\n",
    "top_matches = df_sorted.head(top_n)\n",
    "\n",
    "# Step: Plot bar chart\n",
    "plt.figure(figsize=(10, 6))\n",
    "bars = plt.barh(\n",
    "    top_matches[\"Resume\"],\n",
    "    top_matches[\"Match %\"],\n",
    "    color='skyblue'\n",
    ")\n",
    "\n",
    "# Add match % labels next to bars\n",
    "for bar in bars:\n",
    "    width = bar.get_width()\n",
    "    plt.text(width + 1, bar.get_y() + bar.get_height()/2,\n",
    "             f'{width}%', va='center')\n",
    "\n",
    "plt.xlabel(\"Match %\")\n",
    "plt.title(\"Top Resume Matches with All JDs\")\n",
    "plt.gca().invert_yaxis()  # highest match on top\n",
    "plt.tight_layout()\n",
    "plt.show()"
   ]
  },
  {
   "cell_type": "code",
   "execution_count": null,
   "id": "349958f1-a8b5-446f-8558-db76b867280c",
   "metadata": {},
   "outputs": [],
   "source": []
  }
 ],
 "metadata": {
  "kernelspec": {
   "display_name": "Python 3 (ipykernel)",
   "language": "python",
   "name": "python3"
  },
  "language_info": {
   "codemirror_mode": {
    "name": "ipython",
    "version": 3
   },
   "file_extension": ".py",
   "mimetype": "text/x-python",
   "name": "python",
   "nbconvert_exporter": "python",
   "pygments_lexer": "ipython3",
   "version": "3.12.7"
  }
 },
 "nbformat": 4,
 "nbformat_minor": 5
}
